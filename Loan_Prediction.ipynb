{
  "nbformat": 4,
  "nbformat_minor": 0,
  "metadata": {
    "colab": {
      "provenance": [],
      "authorship_tag": "ABX9TyNFX1FYRpJ26PAn22TMHEoZ",
      "include_colab_link": true
    },
    "kernelspec": {
      "name": "python3",
      "display_name": "Python 3"
    },
    "language_info": {
      "name": "python"
    }
  },
  "cells": [
    {
      "cell_type": "markdown",
      "metadata": {
        "id": "view-in-github",
        "colab_type": "text"
      },
      "source": [
        "<a href=\"https://colab.research.google.com/github/bdfd/Portfolio_Project03_Loan_Prediction/blob/main/Loan_Prediction.ipynb\" target=\"_parent\"><img src=\"https://colab.research.google.com/assets/colab-badge.svg\" alt=\"Open In Colab\"/></a>"
      ]
    },
    {
      "cell_type": "markdown",
      "source": [
        "#Loan Prediction"
      ],
      "metadata": {
        "id": "eWT6k0173aI_"
      }
    },
    {
      "cell_type": "markdown",
      "source": [
        "## Basic Approach"
      ],
      "metadata": {
        "id": "MtRM70T_3wKE"
      }
    },
    {
      "cell_type": "markdown",
      "source": [
        "The Approach\n",
        "1. Perform some quick EDA(Exploratory Data Analysis)\n",
        "2. Use sk-learn Algorithm to create our segments \n",
        "3. Use Summary Statistics on the clusters\n",
        "4. Visualize\n",
        "\n",
        "Target Cluster\n",
        "*   Target Variable - Loan Status either Yes(Y) or No(N)\n"
      ],
      "metadata": {
        "id": "PadWqIQf3xB8"
      }
    },
    {
      "cell_type": "code",
      "source": [
        "# required libraries\n",
        "import pandas as pd\n",
        "import sklearn\n",
        "from sklearn.model_selection import train_test_split\n",
        "from sklearn.preprocessing import LabelEncoder\n",
        "from sklearn.metrics import accuracy_score\n",
        "from sklearn.linear_model import LogisticRegression\n",
        "\n",
        "import warnings\n",
        "warnings.filterwarnings('ignore')"
      ],
      "metadata": {
        "id": "8Ei-srQB4BOZ"
      },
      "execution_count": 8,
      "outputs": []
    },
    {
      "cell_type": "code",
      "source": [
        "# read the dataset\n",
        "data_path = 'https://raw.githubusercontent.com/bdfd/Portfolio_Project03_Loan_Prediction/main/dataset/loan.csv'\n",
        "# upload dataset into data frame\n",
        "df = pd.read_csv(data_path)\n",
        "# print(df.head(3))"
      ],
      "metadata": {
        "id": "Uz6Gax-i33u7"
      },
      "execution_count": 34,
      "outputs": []
    },
    {
      "cell_type": "code",
      "source": [
        "print(df.columns)"
      ],
      "metadata": {
        "colab": {
          "base_uri": "https://localhost:8080/"
        },
        "id": "OJWsvA5q7Lko",
        "outputId": "e940387f-bd8d-42c0-cda5-933206282d36"
      },
      "execution_count": 16,
      "outputs": [
        {
          "output_type": "stream",
          "name": "stdout",
          "text": [
            "Index(['Loan_ID', 'Gender', 'Married', 'Dependents', 'Education',\n",
            "       'Self_Employed', 'ApplicantIncome', 'CoapplicantIncome', 'LoanAmount',\n",
            "       'Loan_Amount_Term', 'Credit_History', 'Property_Area', 'Loan_Status'],\n",
            "      dtype='object')\n"
          ]
        }
      ]
    },
    {
      "cell_type": "code",
      "source": [
        "# label encode the target variable\n",
        "encode = LabelEncoder()\n",
        "df.Load_Status = encode.fit_transform(df.Loan_Status)"
      ],
      "metadata": {
        "id": "8BAa_2HD7X96"
      },
      "execution_count": 20,
      "outputs": []
    },
    {
      "cell_type": "code",
      "source": [
        "df.dropna(how='any',inplace=True)\n",
        "# print(df.head(3))"
      ],
      "metadata": {
        "id": "x8gj6RRI8E6p"
      },
      "execution_count": 33,
      "outputs": []
    },
    {
      "cell_type": "code",
      "source": [
        "# train-test-split\n",
        "train, test = train_test_split(df, test_size=0.2, random_state=0)\n",
        "# seperate the target and independent variable\n",
        "train_x = train.drop(columns=['Loan_ID','Loan_Status'],axis=1)\n",
        "train_y = train['Loan_Status']\n",
        "\n",
        "test_x = test.drop(columns=['Loan_ID','Loan_Status'],axis=1)\n",
        "test_y = test['Loan_Status']"
      ],
      "metadata": {
        "id": "6ItDLp3J8gUY"
      },
      "execution_count": 28,
      "outputs": []
    },
    {
      "cell_type": "code",
      "source": [
        "# encode the data\n",
        "train_x = pd.get_dummies(train_x)\n",
        "test_x = pd.get_dummies(test_x)\n",
        "# print(test_x)"
      ],
      "metadata": {
        "id": "Dntj8BPt9l4N"
      },
      "execution_count": 32,
      "outputs": []
    },
    {
      "cell_type": "code",
      "source": [
        "# create the object of the model\n",
        "model = LogisticRegression()\n",
        "model.fit(train_x, train_y)\n",
        "predict = model.predict(test_x)\n",
        "# print('Predicted Values on Test Data', predict)"
      ],
      "metadata": {
        "id": "-kU-pjSS95A8"
      },
      "execution_count": 39,
      "outputs": []
    },
    {
      "cell_type": "code",
      "source": [
        "print('Accuracy Score on test data:')\n",
        "print(accuracy_score(test_y, predict))"
      ],
      "metadata": {
        "colab": {
          "base_uri": "https://localhost:8080/"
        },
        "id": "dh4DnnF4--E9",
        "outputId": "813308f5-c682-4ec3-d1ba-5ebdeef0010f"
      },
      "execution_count": 41,
      "outputs": [
        {
          "output_type": "stream",
          "name": "stdout",
          "text": [
            "Accuracy Score on test data:\n",
            "0.7291666666666666\n"
          ]
        }
      ]
    }
  ]
}